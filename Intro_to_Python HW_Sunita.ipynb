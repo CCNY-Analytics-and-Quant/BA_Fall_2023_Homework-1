{
 "cells": [
  {
   "cell_type": "markdown",
   "metadata": {},
   "source": [
    "Homework:\n",
    "1) Convert variables to dynamic inputs\n",
    "2) Add investment returns (assume 14% annual return) to both loops\n",
    "3) For While loop  \n",
    "    3a) estimate desired retirement balance  \n",
    "    3b) calculate what age you can retire at  \n",
    "    "
   ]
  },
  {
   "cell_type": "code",
   "execution_count": 18,
   "metadata": {},
   "outputs": [
    {
     "name": "stdin",
     "output_type": "stream",
     "text": [
      "What is your current account balance?  10000\n",
      "How much will you contribute every year?  22500\n",
      "What is your current age?  22\n",
      "At what age would you like to retire?  67\n",
      "What is your current annual salary?  60000\n",
      "What is your annual raise factor rate (as a decimal)?  0.025\n",
      "What is your employer's matching rate for contributions (as a decimal)?  0.05\n",
      "What is the assumed annual investment return rate (as a decimal)?  0.14\n"
     ]
    }
   ],
   "source": [
    "# Dynamic inputs from the user\n",
    "acct_bal = float(input(\"What is your current account balance? \"))\n",
    "deposit = float(input(\"How much will you contribute every year? \"))\n",
    "cur_age = int(input(\"What is your current age? \"))\n",
    "ret_age = int(input(\"At what age would you like to retire? \"))\n",
    "salary = float(input(\"What is your current annual salary? \"))\n",
    "rf_rate = float(input(\"What is your annual raise factor rate (as a decimal)? \"))\n",
    "match_rate = float(input(\"What is your employer's matching rate for contributions (as a decimal)? \"))\n",
    "investment_return = float(input(\"What is the assumed annual investment return rate (as a decimal)? \"))"
   ]
  },
  {
   "cell_type": "code",
   "execution_count": 19,
   "metadata": {},
   "outputs": [
    {
     "name": "stdout",
     "output_type": "stream",
     "text": [
      "Projected retirement balance is: $81078061.46\n"
     ]
    }
   ],
   "source": [
    "# Calculate the account balance each year with the matching, deposit, and investment return\n",
    "for year in range(cur_age, ret_age):\n",
    "    salary *= (1 + rf_rate)  \n",
    "    matching = salary * match_rate  \n",
    "    acct_bal = (acct_bal + deposit + matching) * (1 + investment_return)  \n",
    "print(\"Projected retirement balance is: ${:.2f}\".format(acct_bal))"
   ]
  },
  {
   "cell_type": "code",
   "execution_count": 21,
   "metadata": {},
   "outputs": [
    {
     "name": "stdin",
     "output_type": "stream",
     "text": [
      "What is your desired retirement balance?  2000000\n",
      "What is your current account balance?  50000\n",
      "How much will you contribute every year?  15000\n",
      "What is your current annual salary?  70000\n",
      "What is your annual raise factor rate (as a decimal)?  0.03\n",
      "What is your employer's matching rate for contributions (as a decimal)?  0.05\n",
      "What is the assumed annual investment return rate (as a decimal)?  0.14\n",
      "What is your current age?  30\n"
     ]
    }
   ],
   "source": [
    "desired_balance = float(input(\"What is your desired retirement balance? \"))\n",
    "# desired_balance = 2000000.0\n",
    "\n",
    "# Variables for while loop calculations\n",
    "acct_bal = float(input(\"What is your current account balance? \"))\n",
    "deposit = float(input(\"How much will you contribute every year? \"))\n",
    "salary = float(input(\"What is your current annual salary? \"))\n",
    "rf_rate = float(input(\"What is your annual raise factor rate (as a decimal)? \"))\n",
    "match_rate = float(input(\"What is your employer's matching rate for contributions (as a decimal)? \"))\n",
    "investment_return = float(input(\"What is the assumed annual investment return rate (as a decimal)? \"))\n",
    "cur_age = int(input(\"What is your current age? \"))"
   ]
  },
  {
   "cell_type": "code",
   "execution_count": 22,
   "metadata": {},
   "outputs": [
    {
     "name": "stdout",
     "output_type": "stream",
     "text": [
      "Retirement balance will be $2029790.47 at the age of 48.\n"
     ]
    }
   ],
   "source": [
    "# Calculate the age at which the desired retirement balance is achieved\n",
    "while acct_bal < desired_balance:\n",
    "    salary *= (1 + rf_rate)  \n",
    "    matching = salary * match_rate \n",
    "    acct_bal = (acct_bal + deposit + matching) * (1 + investment_return)  \n",
    "    cur_age += 1  \n",
    "print(f\"Retirement balance will be ${acct_bal:.2f} at the age of {cur_age}.\")"
   ]
  },
  {
   "cell_type": "code",
   "execution_count": 23,
   "metadata": {},
   "outputs": [
    {
     "name": "stdout",
     "output_type": "stream",
     "text": [
      "With an annual salary of $65000.00 \n",
      "Deposit of $22500.00, \n",
      "Retirement balance at age 67 is $80175773.06.\n",
      "\n"
     ]
    }
   ],
   "source": [
    "def interest_calc(\n",
    "    cur_age: int,\n",
    "    salaries: list = [65000],\n",
    "    rf_rate: float = 0.025,\n",
    "    match_rate: float = 0.05,\n",
    "    acct_bal: float = 5000,\n",
    "    deposits: list = [22500],\n",
    "    ret_age: int = 67,\n",
    "    investment_return: float = 0.14\n",
    "):\n",
    "    \"\"\"\n",
    "    Calculate the projected retirement account balance for various salaries and deposits,\n",
    "    accounting for employer matching and annual investment return.\n",
    "    \n",
    "    Parameters:\n",
    "    cur_age (int): Current age of the user.\n",
    "    salaries (list of float): A list of different annual salary scenarios to consider.\n",
    "    rf_rate (float): Annual raise factor rate as a decimal.\n",
    "    match_rate (float): Employer's matching rate for contributions as a decimal.\n",
    "    acct_bal (float): Current retirement account balance.\n",
    "    deposits (list of float): A list of different annual deposit amounts to consider.\n",
    "    ret_age (int): The age at which retirement is planned.\n",
    "    investment_return (float): Annual investment return rate as a decimal (default 14%).\n",
    "    \n",
    "    Prints:\n",
    "    The final account balance at retirement for each salary and deposit scenario.\n",
    "    \"\"\"\n",
    "    for inp_salary in salaries:\n",
    "        for deposit in deposits:\n",
    "            temp_acct_bal = acct_bal  \n",
    "            temp_salary = inp_salary  \n",
    "            for year in range(cur_age, ret_age):\n",
    "                temp_salary *= (1 + rf_rate)  \n",
    "                matching = temp_salary * match_rate  \n",
    "                temp_acct_bal = (temp_acct_bal + deposit + matching) * (1 + investment_return)\n",
    "            \n",
    "            print(f\"With an annual salary of ${inp_salary:.2f} \\nDeposit of ${deposit:.2f}, \"\n",
    "                  f\"\\nRetirement balance at age {ret_age} is ${temp_acct_bal:.2f}.\\n\")\n",
    "interest_calc(22)"
   ]
  },
  {
   "cell_type": "code",
   "execution_count": 13,
   "metadata": {},
   "outputs": [
    {
     "name": "stdout",
     "output_type": "stream",
     "text": [
      "With an annual salary of $65000.00 \n",
      "Deposit of $22500.00, \n",
      "Retirement balance at age 67 is $80175773.06.\n",
      "\n",
      "With an annual salary of $70000.00 \n",
      "Deposit of $22500.00, \n",
      "Retirement balance at age 67 is $81091880.03.\n",
      "\n"
     ]
    }
   ],
   "source": [
    "savings_deposits = [15000, 20000, 22500]\n",
    "salary_list = [65000, 70000]\n",
    "\n",
    "interest_calc(22, salaries=salary_list)"
   ]
  },
  {
   "cell_type": "code",
   "execution_count": 10,
   "metadata": {},
   "outputs": [
    {
     "name": "stdout",
     "output_type": "stream",
     "text": [
      "With an annual salary of $65000.00 \n",
      "Deposit of $22500.00, \n",
      "Retirement balance at age 60 is $31886932.08.\n",
      "\n"
     ]
    }
   ],
   "source": [
    "interest_calc(22,ret_age=60)"
   ]
  },
  {
   "cell_type": "code",
   "execution_count": null,
   "metadata": {},
   "outputs": [],
   "source": []
  }
 ],
 "metadata": {
  "kernelspec": {
   "display_name": "Python 3 (ipykernel)",
   "language": "python",
   "name": "python3"
  },
  "language_info": {
   "codemirror_mode": {
    "name": "ipython",
    "version": 3
   },
   "file_extension": ".py",
   "mimetype": "text/x-python",
   "name": "python",
   "nbconvert_exporter": "python",
   "pygments_lexer": "ipython3",
   "version": "3.9.7"
  }
 },
 "nbformat": 4,
 "nbformat_minor": 4
}
